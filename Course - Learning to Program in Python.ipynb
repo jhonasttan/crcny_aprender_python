{
 "cells": [
  {
   "cell_type": "markdown",
   "metadata": {},
   "source": [
    "#Course: Learn to Program in Python\n",
    "##Instructor: <a href=\"http://www.linkedin.com/in/jhonasttanregalado\">Jhonasttan Regalado, PMP</a>\n",
    "\n",
    "###Syllabus and Lessons"
   ]
  },
  {
   "cell_type": "markdown",
   "metadata": {},
   "source": [
    "##Day 1\n",
    "* Course intro - The Project Team (20 Mins)\n",
    "    * Who are you and what would you like to achieve from this experience?\n",
    "    * The course competency model (process, technical, leadership)\n",
    "    * Define the course project, roles and final product\n",
    "        * [Project] The Community Resource Center has requested a report that:\n",
    "            * Lists most talked about topics for Republican candidates\n",
    "            * Provides insight into how viewers felt\n",
    "        * [Roles] Course members represent a mix of:\n",
    "            * Client: Provides list of requirements and validates final product\n",
    "            * Analyst: Gather user requirements (what do they need?)\n",
    "            * Software Developers: Create software solutions to meet client requirements\n",
    "            * Software Product Manager: Manages the relationship with client and project deliverables with the software developers\n",
    "    * The Project Manager\n",
    "        * Who am I?\n",
    "        * What can you expect from me?\n",
    "        * What can I expect from you?\n",
    "    * Define the course project, roles and final product\n",
    "* Six week course covers:\n",
    "    * Lesson 1\n",
    "        * [15 Mins] What is programming? [insert video]\n",
    "        * Why <a>Python</a>? (slides 1-4) (5 Mins)\n",
    "        * Codeacademy.com - account creation and Web GUI (Graphical User Interface) layout (5 Mins)\n",
    "        * [Paired Programming] Create variables (15 Mins)\n",
    "        * Take home assignment (5 Mins)\n",
    "            * Codeacademy - complete L1 (Lesson 1)\n",
    "            * Kaggle.com - create account and fork instructor's project script\n",
    "    * Lesson 2\n",
    "        * Prior week assignment review and Q&A a.k.a Questions and Answers (15 Mins)\n",
    "        * Project status (15 Mins)\n",
    "        * [Paired Programming] Loops (15 Mins)\n",
    "        * Take home assignment (5 Mins)\n",
    "            *  Codeacademy - complete L2\n",
    "    * Lesson 3\n",
    "        * Prior week assignment review and Q&A (15 Mins)\n",
    "        * Project status (15 Mins)\n",
    "        * [Paired Programming] Conditions - If, Else statements (15 Mins)  \n",
    "        * Take home assignment (5 Mins)\n",
    "            *  Codeacademy - complete L3\n",
    "    * Lesson 4\n",
    "        * Prior week assignment review and Q&A (15 Mins)\n",
    "        * Project status (15 Mins)\n",
    "        * [Paired Programming] Booleans (True / False)\n",
    "        * Take home assignment (5 Mins)\n",
    "            *  Codeacademy - complete L4\n",
    "    * Lesson 5\n",
    "        * Prior week assignment review and Q&A (15 Mins)\n",
    "        * Project status (15 Mins)\n",
    "        * [Paired Programming] ??? (If / Else)\n",
    "        * Take home assignment (5 Mins)\n",
    "            *  Codeacademy - complete L5\n",
    "    * Lesson 6\n",
    "        * Project presentation (40 Mins)\n",
    "        * Course Survey (5 Mins)\n",
    "        * Course wrap up\n",
    "\n",
    "###Topics discussed during project status / presentation include:\n",
    "* IT (Information Technology) Roles\n",
    "    * Business / Data Analyst\n",
    "    * Software Developer\n",
    "* SME (Subject Matter Expert) / DE (Domain Expert)\n",
    "* Projects\n",
    "    * Project Management\n",
    "    * Project Team\n",
    "* Software Development\n",
    "    * Software Product Manager\n",
    "    * Lean Development\n",
    "    * Agile Development\n",
    "    * SDLC (Software Development Life Cycle)"
   ]
  },
  {
   "cell_type": "markdown",
   "metadata": {},
   "source": [
    "#Lesson 1\n",
    "\n",
    "* What is programming? [insert video] (5 Mins)\n",
    "* Why <a>Python</a>? (slides 1-4) (5 Mins)\n",
    "\n"
   ]
  },
  {
   "cell_type": "code",
   "execution_count": 3,
   "metadata": {
    "collapsed": false
   },
   "outputs": [
    {
     "name": "stdout",
     "output_type": "stream",
     "text": [
      "Hello World!  Hola Mundo!\n"
     ]
    }
   ],
   "source": [
    "# this is a comment line - in the line below print (to screen / console) the characters within quotes\n",
    "print \"Hello World!\", \" Hola Mundo!\""
   ]
  },
  {
   "cell_type": "markdown",
   "metadata": {},
   "source": [
    "* Codeacademy.com - account creation and Web GUI (Graphical User Interface) layout (5 Mins)\n",
    "* [Paired Programming] Create variables (15 Mins)\n",
    "\n"
   ]
  },
  {
   "cell_type": "code",
   "execution_count": 4,
   "metadata": {
    "collapsed": true
   },
   "outputs": [],
   "source": [
    "# create the variable my_name and assign it the value \"your name\"\n",
    "\n"
   ]
  },
  {
   "cell_type": "code",
   "execution_count": 5,
   "metadata": {
    "collapsed": true
   },
   "outputs": [],
   "source": [
    "# print the variable my_name\n",
    "\n"
   ]
  },
  {
   "cell_type": "code",
   "execution_count": 6,
   "metadata": {
    "collapsed": true
   },
   "outputs": [],
   "source": [
    "# create your own variable and print\n",
    "\n"
   ]
  },
  {
   "cell_type": "markdown",
   "metadata": {},
   "source": [
    "###Congratulations on completing the in class assigment for Lesson 1! This is the time to reflect on what you have learned and ask questions. Remember, there are no dumb questions. It is very likely that others have the same questions you do so let your voice be heard."
   ]
  },
  {
   "cell_type": "markdown",
   "metadata": {},
   "source": [
    "##Take home assignment (5 Mins)\n",
    "* Codeacademy - complete L1 (Lesson 1)\n",
    "* Kaggle.com - create account and fork instructor's project script >> www.kaggle.com/jhonasttan\n",
    "\n"
   ]
  },
  {
   "cell_type": "markdown",
   "metadata": {},
   "source": [
    "#Day 2 - Lesson 2\n",
    "* Prior week assignment review and Q&A a.k.a Questions and Answers (15 Mins)\n",
    "* Project status (15 Mins)\n",
    "* [Paired Programming] Loops (15 Mins)\n",
    "* Take home assignment (5 Mins)\n",
    "    * Codeacademy - complete L2"
   ]
  },
  {
   "cell_type": "markdown",
   "metadata": {},
   "source": [
    "#Day 3 - Lesson 3\n",
    "* Prior week assignment review and Q&A (15 Mins)\n",
    "* Project status (15 Mins)\n",
    "* [Paired Programming] Conditions - If, Else statements (15 Mins)  \n",
    "* Take home assignment (5 Mins)\n",
    "    *  Codeacademy - complete L3\n",
    "\n"
   ]
  },
  {
   "cell_type": "markdown",
   "metadata": {},
   "source": [
    "#Day 4 - Lesson 4\n",
    "* Prior week assignment review and Q&A (15 Mins)\n",
    "* Project status (15 Mins)\n",
    "* [Paired Programming] Booleans (True / False)\n",
    "* Take home assignment (5 Mins)\n",
    "    *  Codeacademy - complete L4\n",
    "\n"
   ]
  },
  {
   "cell_type": "markdown",
   "metadata": {},
   "source": [
    "#Day 5 - Lesson 5\n",
    "* Prior week assignment review and Q&A (15 Mins)\n",
    "* Project status (15 Mins)\n",
    "* [Paired Programming] ??? (If / Else)\n",
    "* Take home assignment (5 Mins)\n",
    "    *  Codeacademy - complete L5\n",
    "\n"
   ]
  },
  {
   "cell_type": "markdown",
   "metadata": {},
   "source": [
    "#Day 6 - Lesson 6\n",
    "* Project presentation (40 Mins)\n",
    "* Course Survey (5 Mins)\n",
    "* Course wrap up\n",
    "\n"
   ]
  },
  {
   "cell_type": "code",
   "execution_count": null,
   "metadata": {
    "collapsed": true
   },
   "outputs": [],
   "source": []
  }
 ],
 "metadata": {
  "kernelspec": {
   "display_name": "Python 2",
   "language": "python",
   "name": "python2"
  },
  "language_info": {
   "codemirror_mode": {
    "name": "ipython",
    "version": 2
   },
   "file_extension": ".py",
   "mimetype": "text/x-python",
   "name": "python",
   "nbconvert_exporter": "python",
   "pygments_lexer": "ipython2",
   "version": "2.7.10"
  }
 },
 "nbformat": 4,
 "nbformat_minor": 0
}
